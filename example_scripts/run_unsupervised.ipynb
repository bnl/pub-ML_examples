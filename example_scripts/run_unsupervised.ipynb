{
 "cells": [
  {
   "cell_type": "markdown",
   "metadata": {
    "collapsed": true,
    "pycharm": {
     "name": "#%% md\n"
    }
   },
   "source": [
    "# Unsupervised agent demonstration"
   ]
  },
  {
   "cell_type": "markdown",
   "source": [
    "Here we demonstrate the use of a filesystem based `DirectoryAgent,`\n",
    "using the `NMFCompanion` agent that follows the `tell`--`report`--`ask` paradigm."
   ],
   "metadata": {
    "collapsed": false,
    "pycharm": {
     "name": "#%% md\n"
    }
   }
  },
  {
   "cell_type": "code",
   "execution_count": null,
   "outputs": [],
   "source": [
    "from bnl_ml.unsupervised.agent import NMFCompanion\n",
    "from bnl_ml.utils.filesystem import ObservationalDirectoryAgent\n",
    "from pathlib import Path\n",
    "import numpy as np\n"
   ],
   "metadata": {
    "collapsed": false,
    "pycharm": {
     "name": "#%%\n"
    }
   }
  },
  {
   "cell_type": "markdown",
   "source": [
    "First we set up a linspace that contains the ROI for the measurement,\n",
    "and a data transformation that takes the complete measurement (Q, I(Q))\n",
    "and trims it to the region on interest."
   ],
   "metadata": {
    "collapsed": false,
    "pycharm": {
     "name": "#%% md\n"
    }
   }
  },
  {
   "cell_type": "code",
   "execution_count": null,
   "outputs": [],
   "source": [
    "x_linspace = np.linspace(0, 10, 545)\n",
    "\n",
    "def data_transform(data):\n",
    "        \"\"\"Trim data to Region of interest\"\"\"\n",
    "        x, y = data\n",
    "        idx_min = (\n",
    "            np.where(x < x_linspace[0])[0][-1]\n",
    "            if len(np.where(x < x_linspace[0])[0])\n",
    "            else 0\n",
    "        )\n",
    "        idx_max = (\n",
    "            np.where(x > x_linspace[-1])[0][0]\n",
    "            if len(np.where(x > x_linspace[-1])[0])\n",
    "            else len(y)\n",
    "        )\n",
    "        return x[idx_min:idx_max], y[idx_min:idx_max]\n"
   ],
   "metadata": {
    "collapsed": false,
    "pycharm": {
     "name": "#%%\n"
    }
   }
  },
  {
   "cell_type": "markdown",
   "source": [
    "Next we instatiate the NMF companion. This agent takes care of\n",
    "the data normalization, the model construction using the scikit-learn backend,\n",
    "and the instructions for what to do when told about data, or asked for a report.\n",
    "\n",
    "In this case, report constructs a plot that encompases the NMF decomposition\n",
    "related to the independent variable of the experiment (temperature)."
   ],
   "metadata": {
    "collapsed": false,
    "pycharm": {
     "name": "#%% md\n"
    }
   }
  },
  {
   "cell_type": "code",
   "execution_count": null,
   "outputs": [],
   "source": [
    "companion = NMFCompanion(4, x_linspace=x_linspace)"
   ],
   "metadata": {
    "collapsed": false,
    "pycharm": {
     "name": "#%%\n"
    }
   }
  },
  {
   "cell_type": "markdown",
   "source": [
    "Following this, we construct the `DirectoryAgent.`\n",
    "This takes the place of `bluesky-adaptive,` when dealing with\n",
    "local file streams instead of distributed document streams.\n",
    "It has some extra options to draw the experimental independent variable\n",
    "out of a path manipulation, as users will commonly store essential metadata in filenames.\n",
    "\n",
    "#### This agent will pay attention to a tmp directory in the example_data folder."
   ],
   "metadata": {
    "collapsed": false,
    "pycharm": {
     "name": "#%% md\n"
    }
   }
  },
  {
   "cell_type": "code",
   "execution_count": null,
   "outputs": [],
   "source": [
    "directory = Path(\"../\") / \"example_data\" / \"tmp\"\n",
    "directory.mkdir(exist_ok=True)\n",
    "\n",
    "da = ObservationalDirectoryAgent(\n",
    "        companion,\n",
    "        directory,\n",
    "        path_spec=\"*.chi\",\n",
    "        data_transform=data_transform,\n",
    "        independent_from_path=lambda path: float(path.name.split(\"_\")[-2][1:-1]),\n",
    "    )\n",
    "da.load_dir()\n"
   ],
   "metadata": {
    "collapsed": false,
    "pycharm": {
     "name": "#%%\n"
    }
   }
  },
  {
   "cell_type": "markdown",
   "source": [
    "Finally, we spin the agent. This is a continuous operation to\n",
    "watch and react to the target directory (`example_data/tmp`).\n",
    "After executing the following cell, go ahead and copy some or all of the data from\n",
    "`example_data/NaCl_CrCl3_pdf_ramp` into `example_data/tmp`.\n",
    "\n",
    "The spin will only run for 2 minutes, before stopping."
   ],
   "metadata": {
    "collapsed": false
   }
  },
  {
   "cell_type": "code",
   "execution_count": null,
   "outputs": [],
   "source": [
    "da.spin(sleep_delay=5, timeout=120)"
   ],
   "metadata": {
    "collapsed": false,
    "pycharm": {
     "name": "#%%\n"
    }
   }
  }
 ],
 "metadata": {
  "kernelspec": {
   "display_name": "Python 3",
   "language": "python",
   "name": "python3"
  },
  "language_info": {
   "codemirror_mode": {
    "name": "ipython",
    "version": 2
   },
   "file_extension": ".py",
   "mimetype": "text/x-python",
   "name": "python",
   "nbconvert_exporter": "python",
   "pygments_lexer": "ipython2",
   "version": "2.7.6"
  }
 },
 "nbformat": 4,
 "nbformat_minor": 0
}